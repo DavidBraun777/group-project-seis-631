{
 "cells": [
  {
   "cell_type": "markdown",
   "id": "8ec4233f",
   "metadata": {},
   "source": [
    "# Exploratory Data Analysis of User Behavior Dataset"
   ]
  },
  {
   "cell_type": "markdown",
   "id": "8c1b80cd",
   "metadata": {},
   "source": [
    "\n",
    "This notebook explores the **User Behavior Dataset** by analyzing various factors such as device usage, \n",
    "battery drain, data usage, and user demographics. We will perform basic exploratory data analysis (EDA) to uncover trends, \n",
    "relationships, and insights within the data.\n",
    "\n",
    "The following steps will be covered:\n",
    "1. Data Overview\n",
    "2. Descriptive Statistics\n",
    "3. Data Visualization\n",
    "4. Insights and Conclusion\n"
   ]
  },
  {
   "cell_type": "markdown",
   "id": "f47123ff",
   "metadata": {},
   "source": [
    "## 1. Data Overview"
   ]
  },
  {
   "cell_type": "code",
   "execution_count": null,
   "id": "1d3b14c8",
   "metadata": {},
   "outputs": [],
   "source": [
    "\n",
    "# Import necessary libraries\n",
    "import pandas as pd\n",
    "import matplotlib.pyplot as plt\n",
    "import seaborn as sns\n",
    "\n",
    "# Load the dataset\n",
    "data = pd.read_csv('/mnt/data/user_behavior_dataset.csv')\n",
    "\n",
    "# Display the first few rows\n",
    "data.head()\n"
   ]
  },
  {
   "cell_type": "markdown",
   "id": "5c62248d",
   "metadata": {},
   "source": [
    "## 2. Descriptive Statistics"
   ]
  },
  {
   "cell_type": "code",
   "execution_count": null,
   "id": "f9ff2481",
   "metadata": {},
   "outputs": [],
   "source": [
    "\n",
    "# Check for missing values and data types\n",
    "data.info()\n",
    "\n",
    "# Generate descriptive statistics for numerical columns\n",
    "data.describe()\n"
   ]
  },
  {
   "cell_type": "markdown",
   "id": "8753d9df",
   "metadata": {},
   "source": [
    "## 3. Data Visualization"
   ]
  },
  {
   "cell_type": "code",
   "execution_count": null,
   "id": "ca59bea9",
   "metadata": {},
   "outputs": [],
   "source": [
    "\n",
    "# Distribution of App Usage Time\n",
    "plt.figure(figsize=(10, 6))\n",
    "sns.histplot(data['App Usage Time (min/day)'], kde=True, bins=30)\n",
    "plt.title('Distribution of App Usage Time (min/day)')\n",
    "plt.xlabel('App Usage Time (min/day)')\n",
    "plt.ylabel('Frequency')\n",
    "plt.show()\n"
   ]
  },
  {
   "cell_type": "code",
   "execution_count": null,
   "id": "98c93fe6",
   "metadata": {},
   "outputs": [],
   "source": [
    "\n",
    "# Screen On Time vs Battery Drain\n",
    "plt.figure(figsize=(10, 6))\n",
    "sns.scatterplot(x='Screen On Time (hours/day)', y='Battery Drain (mAh/day)', hue='Operating System', data=data)\n",
    "plt.title('Screen On Time vs Battery Drain')\n",
    "plt.xlabel('Screen On Time (hours/day)')\n",
    "plt.ylabel('Battery Drain (mAh/day)')\n",
    "plt.legend(title='Operating System')\n",
    "plt.show()\n"
   ]
  },
  {
   "cell_type": "code",
   "execution_count": null,
   "id": "d8074d74",
   "metadata": {},
   "outputs": [],
   "source": [
    "\n",
    "# Age Distribution by User Behavior Class\n",
    "plt.figure(figsize=(10, 6))\n",
    "sns.boxplot(x='User Behavior Class', y='Age', data=data)\n",
    "plt.title('Age Distribution by User Behavior Class')\n",
    "plt.xlabel('User Behavior Class')\n",
    "plt.ylabel('Age')\n",
    "plt.show()\n"
   ]
  },
  {
   "cell_type": "code",
   "execution_count": null,
   "id": "1861b32a",
   "metadata": {},
   "outputs": [],
   "source": [
    "\n",
    "# Data Usage by Gender\n",
    "plt.figure(figsize=(10, 6))\n",
    "sns.boxplot(x='Gender', y='Data Usage (MB/day)', data=data)\n",
    "plt.title('Data Usage by Gender')\n",
    "plt.xlabel('Gender')\n",
    "plt.ylabel('Data Usage (MB/day)')\n",
    "plt.show()\n"
   ]
  },
  {
   "cell_type": "markdown",
   "id": "6e66c593",
   "metadata": {},
   "source": [
    "## 4. Insights and Conclusion"
   ]
  },
  {
   "cell_type": "markdown",
   "id": "03c46d55",
   "metadata": {},
   "source": [
    "\n",
    "In this exploratory data analysis, we observed various trends and patterns within the dataset, including:\n",
    "- The distribution of app usage time among users,\n",
    "- The relationship between screen on time and battery drain across operating systems,\n",
    "- Age distributions for different user behavior classes,\n",
    "- Data usage patterns based on gender.\n",
    "\n",
    "These insights provide a foundational understanding of user behavior, which could be beneficial for further analysis \n",
    "or machine learning model development.\n"
   ]
  }
 ],
 "metadata": {},
 "nbformat": 4,
 "nbformat_minor": 5
}
